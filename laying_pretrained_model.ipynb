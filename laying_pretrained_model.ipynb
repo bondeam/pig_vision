{
 "cells": [
  {
   "cell_type": "markdown",
   "metadata": {
    "id": "kTBZx9Zqsplp"
   },
   "source": [
    "# Run in Colab to load libraries and data"
   ]
  },
  {
   "cell_type": "code",
   "execution_count": null,
   "metadata": {
    "id": "h26deWiXsz9t"
   },
   "outputs": [],
   "source": [
    "from google.colab import drive\n",
    "drive.mount('/content/drive')\n",
    "BASE_DIR = '/content/drive/My\\ Drive/Pig_Vision/'\n",
    "import os\n",
    "from shutil import unpack_archive\n",
    "\n",
    "ImageDatasetFile = os.path.join(BASE_DIR,'pig_vision','ImageDataset.py')\n",
    "!cp $ImageDatasetFile .\n",
    "\n",
    "local_data_dir = 'data'\n",
    "if not os.path.exists(local_data_dir): os.mkdir(local_data_dir)\n",
    "cur_data = 'subsampled'\n",
    "data_tar = os.path.join(BASE_DIR, 'data', cur_data + '.tar')\n",
    "print(data_tar)\n",
    "!cp $data_tar data/\n",
    "\n",
    "\n",
    "unpack_archive(os.path.join(local_data_dir,cur_data + '.tar'), extract_dir=os.path.join(local_data_dir,cur_data), format='tar')\n",
    "\n",
    "!ls data\n",
    "\n",
    "DIR = local_data_dir"
   ]
  },
  {
   "cell_type": "markdown",
   "metadata": {
    "id": "5NTDik2AesuQ"
   },
   "source": [
    "Function Definitions\n",
    "----------------------\n",
    "\n",
    "log functions, then visualisation, then train and test model\n"
   ]
  },
  {
   "cell_type": "code",
   "execution_count": 1,
   "metadata": {
    "colab": {
     "base_uri": "https://localhost:8080/"
    },
    "executionInfo": {
     "elapsed": 629,
     "status": "ok",
     "timestamp": 1612301801001,
     "user": {
      "displayName": "Amelie Bonde",
      "photoUrl": "https://lh3.googleusercontent.com/a-/AOh14GjwHaLJJHDJPkIWVJ34cDbAzmQ2UpvdA5J1oGYb7g=s64",
      "userId": "17878461337384834258"
     },
     "user_tz": 480
    },
    "id": "RhRdZlUDZWBA",
    "outputId": "358e17b1-d2b7-4bd5-de9c-5befc95b9323"
   },
   "outputs": [
    {
     "name": "stdout",
     "output_type": "stream",
     "text": [
      "D:\\GoogleDrive2\\Pig_Vision\\data\n",
      "GeForce RTX 2070 SUPER\n",
      "current data folder: subsampled\n",
      "detecting_laying: True\n"
     ]
    }
   ],
   "source": [
    "from __future__ import print_function, division\n",
    "\n",
    "import torch\n",
    "import torch.nn as nn\n",
    "import torch.optim as optim\n",
    "from torch.optim import lr_scheduler\n",
    "import numpy as np\n",
    "import torchvision\n",
    "from torchvision import datasets, models, transforms\n",
    "from torchvision.datasets.vision import VisionDataset\n",
    "from torch.utils.data import DataLoader, Dataset\n",
    "from PIL import Image\n",
    "import matplotlib.pyplot as plt\n",
    "plt.ion()   # interactive mode\n",
    "%matplotlib inline\n",
    "import time\n",
    "import os\n",
    "import datetime\n",
    "import copy\n",
    "import scipy\n",
    "import sklearn.metrics\n",
    "import ImageDataset\n",
    "import log_util\n",
    "\n",
    "try:\n",
    "    DIR\n",
    "except NameError:\n",
    "    DIR = os.path.join(os.path.dirname( os.getcwd() ),'data')\n",
    "    cur_data = 'subsampled'\n",
    "    print(DIR)\n",
    "\n",
    "# Data augmentation and normalization for training\n",
    "# Just normalization for validation\n",
    "data_transforms = {\n",
    "    'train': transforms.Compose([\n",
    "        transforms.RandomResizedCrop((100,150), scale = [0.8,1]),\n",
    "        transforms.RandomHorizontalFlip(),\n",
    "        transforms.ToTensor()\n",
    "    ]),\n",
    "    'val': transforms.Compose([\n",
    "        transforms.RandomResizedCrop((100,150), scale = [0.8,1]),\n",
    "        transforms.ToTensor()\n",
    "    ]),\n",
    "}\n",
    "\n",
    "\n",
    "SAVE_DIR = os.path.join(os.path.dirname( DIR ),'logs')\n",
    "log = log_util.Log(save_folder=SAVE_DIR,log_file='log.txt',debug=True)\n",
    "data_dir = os.path.join(DIR, cur_data)\n",
    "detect_laying = True\n",
    "\n",
    "device = torch.device(\"cuda:0\" if torch.cuda.is_available() else \"cpu\")\n",
    "print(torch.cuda.get_device_name(0))\n",
    "\n",
    "log.out('current data folder:',cur_data)\n",
    "log.out('detecting_laying:',detect_laying)\n"
   ]
  },
  {
   "cell_type": "markdown",
   "metadata": {
    "id": "Xontg-Cgs7Ht"
   },
   "source": []
  },
  {
   "cell_type": "code",
   "execution_count": 2,
   "metadata": {
    "executionInfo": {
     "elapsed": 663,
     "status": "ok",
     "timestamp": 1612301808381,
     "user": {
      "displayName": "Amelie Bonde",
      "photoUrl": "https://lh3.googleusercontent.com/a-/AOh14GjwHaLJJHDJPkIWVJ34cDbAzmQ2UpvdA5J1oGYb7g=s64",
      "userId": "17878461337384834258"
     },
     "user_tz": 480
    },
    "id": "XDg9OBaYqRMd"
   },
   "outputs": [],
   "source": [
    "def imshow(inp, title=None):\n",
    "    \"\"\"Imshow for Tensor.\"\"\"\n",
    "    inp = inp.numpy().transpose((1, 2, 0))\n",
    "    mean = np.array([0.485, 0.456, 0.406])\n",
    "    std = np.array([0.229, 0.224, 0.225])\n",
    "    inp = std * inp + mean\n",
    "    inp = np.clip(inp, 0, 1)\n",
    "    plt.imshow(inp)\n",
    "    if title is not None:\n",
    "        plt.title(title)\n",
    "    plt.pause(0.001)  # pause a bit so that plots are updated\n",
    "\n",
    "def visualize_model(model, num_images=6):\n",
    "    was_training = model.training\n",
    "    model.eval()\n",
    "    images_so_far = 0\n",
    "    fig = plt.figure()\n",
    "\n",
    "    with torch.no_grad():\n",
    "        for i, (inputs, labels) in enumerate(dataloaders['val']):\n",
    "            inputs = inputs.to(device)\n",
    "            labels = labels.to(device)\n",
    "\n",
    "            outputs = model(inputs)\n",
    "            _, preds = torch.max(outputs, 1)\n",
    "\n",
    "            for j in range(inputs.size()[0]):\n",
    "                images_so_far += 1\n",
    "                ax = plt.subplot(num_images//2, 2, images_so_far)\n",
    "                ax.axis('off')\n",
    "                ax.set_title('predicted: {}'.format(class_names[preds[j]]))\n",
    "                imshow(inputs.cpu().data[j])\n",
    "\n",
    "                if images_so_far == num_images:\n",
    "                    model.train(mode=was_training)\n",
    "                    return\n",
    "        model.train(mode=was_training)\n",
    "        \n",
    "        \n",
    "def visualize_smoothing(y_true,y_pred_first_val,y_pred_consensus):\n",
    "    t = np.array(range(0,len(y_true)*5,5))/3600\n",
    "    plt.figure(figsize=(9, 3))\n",
    "    plt.subplot(311)\n",
    "    plt.plot(t, y_true)\n",
    "    plt.subplot(312)\n",
    "    plt.plot(t, y_pred_first_val)\n",
    "    plt.subplot(313)\n",
    "    plt.plot(t, y_pred_consensus)\n",
    "    plt.suptitle('Smoothing')\n",
    "\n",
    "def consensus_vote(cur_vote,x):\n",
    "    if cur_vote == 0 and sum(x) == len(x):\n",
    "        return 1\n",
    "    if cur_vote == 1 and sum(x) == 0:\n",
    "        return 0\n",
    "    return cur_vote\n",
    "\n",
    "\n",
    "def train_model(model, criterion, optimizer, scheduler, num_epochs=25):\n",
    "    start_train_time = time.time()\n",
    "\n",
    "    best_model_wts = copy.deepcopy(model.state_dict())\n",
    "    best_acc = 0.0\n",
    "\n",
    "    for epoch in range(num_epochs):\n",
    "        log.out('Epoch {}/{}'.format(epoch, num_epochs - 1))\n",
    "        log.out('-' * 10)\n",
    "\n",
    "        # Each epoch has a training and validation phase\n",
    "        for phase in ['train', 'val']:\n",
    "            if phase == 'train':\n",
    "                model.train()  # Set model to training mode\n",
    "            else:\n",
    "                model.eval()   # Set model to evaluate mode\n",
    "\n",
    "            running_loss = 0.0\n",
    "            running_corrects = 0\n",
    "\n",
    "            # Iterate over data.\n",
    "            for inputs, labels in dataloaders[phase]:\n",
    "                inputs = inputs.to(device)\n",
    "                labels = labels.to(device)\n",
    "\n",
    "                # zero the parameter gradients\n",
    "                optimizer.zero_grad()\n",
    "\n",
    "                # forward\n",
    "                # track history if only in train\n",
    "                with torch.set_grad_enabled(phase == 'train'):\n",
    "                    outputs = model(inputs)\n",
    "                    _, preds = torch.max(outputs, 1)\n",
    "                    loss = criterion(outputs, labels)\n",
    "\n",
    "                    # backward + optimize only if in training phase\n",
    "                    if phase == 'train':\n",
    "                        loss.backward()\n",
    "                        optimizer.step()\n",
    "\n",
    "                # statistics\n",
    "                running_loss += loss.item() * inputs.size(0)\n",
    "                running_corrects += torch.sum(preds == labels.data)\n",
    "            if phase == 'train':\n",
    "                scheduler.step()\n",
    "\n",
    "            epoch_loss = running_loss / dataset_sizes[phase]\n",
    "            epoch_acc = running_corrects.double() / dataset_sizes[phase]\n",
    "\n",
    "            log.out('{} Loss: {:.4f} Acc: {:.4f}'.format(\n",
    "                phase, epoch_loss, epoch_acc))\n",
    "\n",
    "            # deep copy the model\n",
    "            if phase == 'val' and epoch_acc > best_acc:\n",
    "                best_acc = epoch_acc\n",
    "                best_model_wts = copy.deepcopy(model.state_dict())\n",
    "\n",
    "        log.out()\n",
    "\n",
    "    log.print_time(start_train_time,'Training')\n",
    "    log.out('Best val Acc: {:4f}'.format(best_acc))\n",
    "\n",
    "    # load best model weights\n",
    "    model.load_state_dict(best_model_wts)\n",
    "    return model\n",
    "\n",
    "def test_model(model,dataloader):\n",
    "    dataset_size = len(dataloader)//2\n",
    "    y_pred_first_val = np.zeros((dataset_size,1))\n",
    "    y_pred_majority = np.zeros((dataset_size,1))\n",
    "    y_pred_consensus = np.zeros((dataset_size,1))\n",
    "    y_true = np.zeros((dataset_size,1))\n",
    "    i = 0\n",
    "    cur_vote = 0\n",
    "    model.eval() \n",
    "    for inputs,labels in dataloader:\n",
    "        inputs = inputs.to(device)\n",
    "        labels = labels.to(device)\n",
    "        prediction = torch.argmax(model(inputs),dim=1)\n",
    "        prediction = prediction.cpu().data.numpy().reshape([-1,1])\n",
    "        labels = labels.cpu().data.numpy().reshape([-1,1])\n",
    "        cur_vote = consensus_vote(cur_vote,prediction)\n",
    "        y_pred_consensus[i] = cur_vote\n",
    "        y_pred_majority[i] = scipy.stats.mode(prediction)[0][0][0]\n",
    "        y_pred_first_val[i] = prediction[0]\n",
    "        y_true[i] = labels[0]\n",
    "        i+=1\n",
    "        if i >= dataset_size:\n",
    "            break\n",
    "    return y_true,y_pred_first_val,y_pred_majority,y_pred_consensus"
   ]
  },
  {
   "cell_type": "markdown",
   "metadata": {
    "id": "zccoML6SfbnD"
   },
   "source": [
    "Load Data\n",
    "---------\n",
    "\n",
    "We will use torchvision and torch.utils.data packages for loading the\n",
    "data."
   ]
  },
  {
   "cell_type": "code",
   "execution_count": 6,
   "metadata": {
    "colab": {
     "base_uri": "https://localhost:8080/",
     "height": 138
    },
    "executionInfo": {
     "elapsed": 824,
     "status": "ok",
     "timestamp": 1612301815984,
     "user": {
      "displayName": "Amelie Bonde",
      "photoUrl": "https://lh3.googleusercontent.com/a-/AOh14GjwHaLJJHDJPkIWVJ34cDbAzmQ2UpvdA5J1oGYb7g=s64",
      "userId": "17878461337384834258"
     },
     "user_tz": 480
    },
    "id": "3_tPdtQ5fdZc",
    "outputId": "502496cc-6403-4879-bf63-046a1319fa8a"
   },
   "outputs": [
    {
     "name": "stdout",
     "output_type": "stream",
     "text": [
      "data loaded with classes: ['not_laying', 'laying']\n"
     ]
    },
    {
     "data": {
      "image/png": "[encoded data removed]",
      "text/plain": [
       "<Figure size 432x288 with 1 Axes>"
      ]
     },
     "metadata": {
      "needs_background": "light"
     },
     "output_type": "display_data"
    }
   ],
   "source": [
    "image_datasets = {x: ImageDataset.TrainImageFolder(os.path.join(data_dir, x), detect_laying,transform=data_transforms[x])\n",
    "                  for x in ['train', 'val']}\n",
    "\n",
    "#use weighted sampling to balance data sets\n",
    "samplers = {x:torch.utils.data.sampler.WeightedRandomSampler(torch.DoubleTensor(image_datasets[x].weights), len(image_datasets[x].weights))\n",
    "           for x in ['train', 'val']}\n",
    "\n",
    "dataloaders = {x: torch.utils.data.DataLoader(image_datasets[x], batch_size=4,shuffle=False, sampler=samplers[x],num_workers=0)\n",
    "              for x in ['train', 'val']}\n",
    "dataset_sizes = {x: len(image_datasets[x]) for x in ['train', 'val']}\n",
    "class_names = image_datasets['train'].classes\n",
    "log.out('data loaded with classes:',class_names)\n",
    "\n",
    "# Get a batch of training data\n",
    "inputs, classes = next(iter(dataloaders[\"train\"]))\n",
    "\n",
    "\n",
    "# Make a grid from batch\n",
    "out = torchvision.utils.make_grid(inputs)\n",
    "\n",
    "imshow(out, title=[class_names[x] for x in classes])"
   ]
  },
  {
   "cell_type": "markdown",
   "metadata": {
    "id": "BIHlOd6yffvn"
   },
   "source": [
    "Load the Pre-trained Model and Tranfer\n",
    "----------------------\n",
    "\n",
    "set requires_grad == False to freeze the parameters so that the gradients are not computed in backward().\n",
    "\n",
    "You can read more about this in the documentation here <https://pytorch.org/docs/notes/autograd.html#excluding-subgraphs-from-backward>__."
   ]
  },
  {
   "cell_type": "code",
   "execution_count": 7,
   "metadata": {
    "colab": {
     "base_uri": "https://localhost:8080/",
     "height": 644,
     "referenced_widgets": [
      "c7e5f238d09e49b1a2380708abaaed61",
      "9dbfd92304424bf2bc206c36a9978e8e",
      "7bbbd1da6ef74428b0d05e5640e21cb8",
      "e66fff139f294f3cbd31f6f5e30cae04",
      "658bf91c5a9d49438b0aee5f0393d792",
      "c19a4ac8a2f1408c8178c67777ae2a50",
      "0dab8fa3b85941a2bf2f888033a506d3",
      "1d736efc22c645aeb310334db90bb040"
     ]
    },
    "executionInfo": {
     "elapsed": 86530,
     "status": "error",
     "timestamp": 1612301906433,
     "user": {
      "displayName": "Amelie Bonde",
      "photoUrl": "https://lh3.googleusercontent.com/a-/AOh14GjwHaLJJHDJPkIWVJ34cDbAzmQ2UpvdA5J1oGYb7g=s64",
      "userId": "17878461337384834258"
     },
     "user_tz": 480
    },
    "id": "QVB84Sd7fjyT",
    "outputId": "c2f8ecc0-330a-423d-f0ba-0526cf53ad9e",
    "scrolled": false
   },
   "outputs": [
    {
     "name": "stdout",
     "output_type": "stream",
     "text": [
      "Epoch 0/0\n",
      "----------\n",
      "train Loss: 0.4198 Acc: 0.8332\n",
      "val Loss: 0.2282 Acc: 0.9062\n",
      "\n",
      "---- Training run time: 0 hours, 2 minutes, 11 seconds ----\n",
      "Best val Acc: 0.906202\n",
      "saving model after 1\n",
      "validating model with balanced data...\n",
      "f1 score (no vote, as data is not in order): 0.9052052909355761\n",
      "+========+========+\n",
      "| 42.97% |  3.24% |\n",
      "+--------+--------+\n",
      "|  6.22% | 47.57% |\n",
      "+--------+--------+\n"
     ]
    }
   ],
   "source": [
    "model_conv = torchvision.models.resnet18(pretrained=True)\n",
    "for param in model_conv.parameters():\n",
    "    param.requires_grad = False\n",
    "\n",
    "# Parameters of newly constructed modules have requires_grad=True by default\n",
    "num_ftrs = model_conv.fc.in_features\n",
    "model_conv.fc = nn.Linear(num_ftrs, 2)\n",
    "\n",
    "model_conv = model_conv.to(device)\n",
    "\n",
    "criterion = nn.CrossEntropyLoss()\n",
    "\n",
    "# Observe that only parameters of final layer are being optimized as\n",
    "# opposed to before.\n",
    "optimizer_conv = optim.SGD(model_conv.fc.parameters(), lr=0.001, momentum=0.9)\n",
    "\n",
    "# Decay LR by a factor of 0.1 every 7 epochs\n",
    "exp_lr_scheduler = lr_scheduler.StepLR(optimizer_conv, step_size=7, gamma=0.1)\n",
    "n_epochs = 1\n",
    "model_conv = train_model(model_conv, criterion, optimizer_conv,\n",
    "                         exp_lr_scheduler, num_epochs=n_epochs)\n",
    "\n",
    "log.out('saving model after',n_epochs)\n",
    "#save model:\n",
    "model_path = os.path.join(log.LOG_DIR, 'model.pth')\n",
    "torch.save(model_conv, model_path)\n",
    "\n",
    "\n",
    "#log.print_time(intro='train time:',stime=start_time)\n",
    "\n",
    "log.out('validating model with balanced data...')\n",
    "y_true, y_pred, _, _  = test_model(model_conv,dataloaders['val'])\n",
    "\n",
    "        \n",
    "    #disp = sklearn.metrics.ConfusionMatrixDisplay(confusion_matrix=cm,display_labels=class_names)\n",
    "    #    disp.plot()\n",
    "    #    plt.show()\n",
    "f1 = sklearn.metrics.f1_score(y_true, y_pred, average='macro')\n",
    "\n",
    "log.out('f1 score (no vote, as data is not in order):',f1)\n",
    "\n",
    "cm = sklearn.metrics.confusion_matrix(y_true,y_pred,normalize='None')\n",
    "log.printTable(cm,header='Confusion Matrix', col_names=image_datasets['val'].classes)\n",
    "cm = sklearn.metrics.confusion_matrix(y_true,y_pred,normalize='row')\n",
    "log.printTable(cm)\n",
    "\n"
   ]
  },
  {
   "cell_type": "markdown",
   "metadata": {
    "id": "tOk_IEBphC63"
   },
   "source": [
    "Test and Visualize Model\n",
    "---------\n",
    "\n",
    "first on balanced test set, then with a whole day"
   ]
  },
  {
   "cell_type": "code",
   "execution_count": 9,
   "metadata": {
    "colab": {
     "base_uri": "https://localhost:8080/",
     "height": 1000
    },
    "executionInfo": {
     "elapsed": 15139,
     "status": "ok",
     "timestamp": 1612243316196,
     "user": {
      "displayName": "Amelie Bonde",
      "photoUrl": "",
      "userId": "08493297555089241613"
     },
     "user_tz": 480
    },
    "id": "7ji-KPu9hFfJ",
    "outputId": "2d58d85c-cfa8-4b4e-a0a4-c87f5d478bb2"
   },
   "outputs": [
    {
     "name": "stdout",
     "output_type": "stream",
     "text": [
      "+------------++--------+--------+\n",
      "|            || not_laying | laying |\n",
      "+============++========+========+\n",
      "| not_laying || 42.97% |  3.24% |\n",
      "+------------++--------+--------+\n",
      "|     laying ||  6.22% | 47.57% |\n",
      "+------------++--------+--------+\n"
     ]
    }
   ],
   "source": [
    "log.printTable(cm,header=image_datasets['val'].classes, col_names=image_datasets['val'].classes)\n",
    "#visualize_model(model_conv)\n",
    "#plt.ioff()\n",
    "#plt.show()"
   ]
  },
  {
   "cell_type": "code",
   "execution_count": null,
   "metadata": {
    "id": "LzgzWXjNZmKc"
   },
   "outputs": [],
   "source": []
  }
 ],
 "metadata": {
  "accelerator": "GPU",
  "colab": {
   "collapsed_sections": [],
   "name": "laying_pretrained_model.ipynb",
   "provenance": []
  },
  "kernelspec": {
   "display_name": "Python 3",
   "language": "python",
   "name": "python3"
  },
  "language_info": {
   "codemirror_mode": {
    "name": "ipython",
    "version": 3
   },
   "file_extension": ".py",
   "mimetype": "text/x-python",
   "name": "python",
   "nbconvert_exporter": "python",
   "pygments_lexer": "ipython3",
   "version": "3.7.9"
  },
  "widgets": {
   "application/vnd.jupyter.widget-state+json": {
    "0dab8fa3b85941a2bf2f888033a506d3": {
     "model_module": "@jupyter-widgets/controls",
     "model_name": "DescriptionStyleModel",
     "state": {
      "_model_module": "@jupyter-widgets/controls",
      "_model_module_version": "1.5.0",
      "_model_name": "DescriptionStyleModel",
      "_view_count": null,
      "_view_module": "@jupyter-widgets/base",
      "_view_module_version": "1.2.0",
      "_view_name": "StyleView",
      "description_width": ""
     }
    },
    "1d736efc22c645aeb310334db90bb040": {
     "model_module": "@jupyter-widgets/base",
     "model_name": "LayoutModel",
     "state": {
      "_model_module": "@jupyter-widgets/base",
      "_model_module_version": "1.2.0",
      "_model_name": "LayoutModel",
      "_view_count": null,
      "_view_module": "@jupyter-widgets/base",
      "_view_module_version": "1.2.0",
      "_view_name": "LayoutView",
      "align_content": null,
      "align_items": null,
      "align_self": null,
      "border": null,
      "bottom": null,
      "display": null,
      "flex": null,
      "flex_flow": null,
      "grid_area": null,
      "grid_auto_columns": null,
      "grid_auto_flow": null,
      "grid_auto_rows": null,
      "grid_column": null,
      "grid_gap": null,
      "grid_row": null,
      "grid_template_areas": null,
      "grid_template_columns": null,
      "grid_template_rows": null,
      "height": null,
      "justify_content": null,
      "justify_items": null,
      "left": null,
      "margin": null,
      "max_height": null,
      "max_width": null,
      "min_height": null,
      "min_width": null,
      "object_fit": null,
      "object_position": null,
      "order": null,
      "overflow": null,
      "overflow_x": null,
      "overflow_y": null,
      "padding": null,
      "right": null,
      "top": null,
      "visibility": null,
      "width": null
     }
    },
    "658bf91c5a9d49438b0aee5f0393d792": {
     "model_module": "@jupyter-widgets/controls",
     "model_name": "ProgressStyleModel",
     "state": {
      "_model_module": "@jupyter-widgets/controls",
      "_model_module_version": "1.5.0",
      "_model_name": "ProgressStyleModel",
      "_view_count": null,
      "_view_module": "@jupyter-widgets/base",
      "_view_module_version": "1.2.0",
      "_view_name": "StyleView",
      "bar_color": null,
      "description_width": "initial"
     }
    },
    "7bbbd1da6ef74428b0d05e5640e21cb8": {
     "model_module": "@jupyter-widgets/controls",
     "model_name": "FloatProgressModel",
     "state": {
      "_dom_classes": [],
      "_model_module": "@jupyter-widgets/controls",
      "_model_module_version": "1.5.0",
      "_model_name": "FloatProgressModel",
      "_view_count": null,
      "_view_module": "@jupyter-widgets/controls",
      "_view_module_version": "1.5.0",
      "_view_name": "ProgressView",
      "bar_style": "success",
      "description": "100%",
      "description_tooltip": null,
      "layout": "IPY_MODEL_c19a4ac8a2f1408c8178c67777ae2a50",
      "max": 46827520,
      "min": 0,
      "orientation": "horizontal",
      "style": "IPY_MODEL_658bf91c5a9d49438b0aee5f0393d792",
      "value": 46827520
     }
    },
    "9dbfd92304424bf2bc206c36a9978e8e": {
     "model_module": "@jupyter-widgets/base",
     "model_name": "LayoutModel",
     "state": {
      "_model_module": "@jupyter-widgets/base",
      "_model_module_version": "1.2.0",
      "_model_name": "LayoutModel",
      "_view_count": null,
      "_view_module": "@jupyter-widgets/base",
      "_view_module_version": "1.2.0",
      "_view_name": "LayoutView",
      "align_content": null,
      "align_items": null,
      "align_self": null,
      "border": null,
      "bottom": null,
      "display": null,
      "flex": null,
      "flex_flow": null,
      "grid_area": null,
      "grid_auto_columns": null,
      "grid_auto_flow": null,
      "grid_auto_rows": null,
      "grid_column": null,
      "grid_gap": null,
      "grid_row": null,
      "grid_template_areas": null,
      "grid_template_columns": null,
      "grid_template_rows": null,
      "height": null,
      "justify_content": null,
      "justify_items": null,
      "left": null,
      "margin": null,
      "max_height": null,
      "max_width": null,
      "min_height": null,
      "min_width": null,
      "object_fit": null,
      "object_position": null,
      "order": null,
      "overflow": null,
      "overflow_x": null,
      "overflow_y": null,
      "padding": null,
      "right": null,
      "top": null,
      "visibility": null,
      "width": null
     }
    },
    "c19a4ac8a2f1408c8178c67777ae2a50": {
     "model_module": "@jupyter-widgets/base",
     "model_name": "LayoutModel",
     "state": {
      "_model_module": "@jupyter-widgets/base",
      "_model_module_version": "1.2.0",
      "_model_name": "LayoutModel",
      "_view_count": null,
      "_view_module": "@jupyter-widgets/base",
      "_view_module_version": "1.2.0",
      "_view_name": "LayoutView",
      "align_content": null,
      "align_items": null,
      "align_self": null,
      "border": null,
      "bottom": null,
      "display": null,
      "flex": null,
      "flex_flow": null,
      "grid_area": null,
      "grid_auto_columns": null,
      "grid_auto_flow": null,
      "grid_auto_rows": null,
      "grid_column": null,
      "grid_gap": null,
      "grid_row": null,
      "grid_template_areas": null,
      "grid_template_columns": null,
      "grid_template_rows": null,
      "height": null,
      "justify_content": null,
      "justify_items": null,
      "left": null,
      "margin": null,
      "max_height": null,
      "max_width": null,
      "min_height": null,
      "min_width": null,
      "object_fit": null,
      "object_position": null,
      "order": null,
      "overflow": null,
      "overflow_x": null,
      "overflow_y": null,
      "padding": null,
      "right": null,
      "top": null,
      "visibility": null,
      "width": null
     }
    },
    "c7e5f238d09e49b1a2380708abaaed61": {
     "model_module": "@jupyter-widgets/controls",
     "model_name": "HBoxModel",
     "state": {
      "_dom_classes": [],
      "_model_module": "@jupyter-widgets/controls",
      "_model_module_version": "1.5.0",
      "_model_name": "HBoxModel",
      "_view_count": null,
      "_view_module": "@jupyter-widgets/controls",
      "_view_module_version": "1.5.0",
      "_view_name": "HBoxView",
      "box_style": "",
      "children": [
       "IPY_MODEL_7bbbd1da6ef74428b0d05e5640e21cb8",
       "IPY_MODEL_e66fff139f294f3cbd31f6f5e30cae04"
      ],
      "layout": "IPY_MODEL_9dbfd92304424bf2bc206c36a9978e8e"
     }
    },
    "e66fff139f294f3cbd31f6f5e30cae04": {
     "model_module": "@jupyter-widgets/controls",
     "model_name": "HTMLModel",
     "state": {
      "_dom_classes": [],
      "_model_module": "@jupyter-widgets/controls",
      "_model_module_version": "1.5.0",
      "_model_name": "HTMLModel",
      "_view_count": null,
      "_view_module": "@jupyter-widgets/controls",
      "_view_module_version": "1.5.0",
      "_view_name": "HTMLView",
      "description": "",
      "description_tooltip": null,
      "layout": "IPY_MODEL_1d736efc22c645aeb310334db90bb040",
      "placeholder": "​",
      "style": "IPY_MODEL_0dab8fa3b85941a2bf2f888033a506d3",
      "value": " 44.7M/44.7M [00:00&lt;00:00, 196MB/s]"
     }
    }
   }
  }
 },
 "nbformat": 4,
 "nbformat_minor": 1
}
